{
 "cells": [
  {
   "cell_type": "code",
   "execution_count": 0,
   "metadata": {
    "colab": {},
    "colab_type": "code",
    "id": "v__2ks6tsXah"
   },
   "outputs": [],
   "source": [
    "import warnings\n",
    "warnings.filterwarnings('ignore')"
   ]
  },
  {
   "cell_type": "markdown",
   "metadata": {
    "colab_type": "text",
    "id": "ejK2Vg6Qsc2G"
   },
   "source": [
    "**Mounting Drive**"
   ]
  },
  {
   "cell_type": "code",
   "execution_count": 4,
   "metadata": {
    "colab": {
     "base_uri": "https://localhost:8080/",
     "height": 122
    },
    "colab_type": "code",
    "id": "TQ1Kzk3esgAY",
    "outputId": "e68029f4-bec0-4d6e-f11b-41a805b396d8"
   },
   "outputs": [
    {
     "name": "stdout",
     "output_type": "stream",
     "text": [
      "Go to this URL in a browser: https://accounts.google.com/o/oauth2/auth?client_id=947318989803-6bn6qk8qdgf4n4g3pfee6491hc0brc4i.apps.googleusercontent.com&redirect_uri=urn%3Aietf%3Awg%3Aoauth%3A2.0%3Aoob&scope=email%20https%3A%2F%2Fwww.googleapis.com%2Fauth%2Fdocs.test%20https%3A%2F%2Fwww.googleapis.com%2Fauth%2Fdrive%20https%3A%2F%2Fwww.googleapis.com%2Fauth%2Fdrive.photos.readonly%20https%3A%2F%2Fwww.googleapis.com%2Fauth%2Fpeopleapi.readonly&response_type=code\n",
      "\n",
      "Enter your authorization code:\n",
      "··········\n",
      "Mounted at /content/drive\n"
     ]
    }
   ],
   "source": [
    "from google.colab import drive\n",
    "drive.mount('/content/drive')"
   ]
  },
  {
   "cell_type": "markdown",
   "metadata": {
    "colab_type": "text",
    "id": "-pEL5HFmuwCU"
   },
   "source": [
    "**Loading required libraries**"
   ]
  },
  {
   "cell_type": "code",
   "execution_count": 5,
   "metadata": {
    "colab": {
     "base_uri": "https://localhost:8080/",
     "height": 34
    },
    "colab_type": "code",
    "id": "G7kBXbrwu1zD",
    "outputId": "0d1a37af-dafc-4793-90bd-b5b373d0bfbd"
   },
   "outputs": [
    {
     "name": "stderr",
     "output_type": "stream",
     "text": [
      "Using TensorFlow backend.\n"
     ]
    }
   ],
   "source": [
    "import h5py\n",
    "import numpy as np\n",
    "from keras.datasets import mnist\n",
    "from keras.utils import np_utils"
   ]
  },
  {
   "cell_type": "markdown",
   "metadata": {
    "colab_type": "text",
    "id": "ZaoQhpmEstH4"
   },
   "source": [
    "**Reading the datafile**"
   ]
  },
  {
   "cell_type": "code",
   "execution_count": 0,
   "metadata": {
    "colab": {},
    "colab_type": "code",
    "id": "syzgEl2ysq0j"
   },
   "outputs": [],
   "source": [
    "# Open the file as readonly\n",
    "h5f = h5py.File('/content/drive/My Drive/DLCP/SVHN_single_grey1.h5', 'r')"
   ]
  },
  {
   "cell_type": "markdown",
   "metadata": {
    "colab_type": "text",
    "id": "2wWw2nnws4uG"
   },
   "source": [
    "## Splitting Dataset into Train & Test\n",
    "\n",
    "#### Also Normalize the data by dividing with 255.0 (Dividing by 255.0 will ensure that the data remains a floating number instead of returning integer values like 1 & 0)"
   ]
  },
  {
   "cell_type": "code",
   "execution_count": 7,
   "metadata": {
    "colab": {
     "base_uri": "https://localhost:8080/",
     "height": 51
    },
    "colab_type": "code",
    "id": "HZfGIdfws5j0",
    "outputId": "99fb669c-81d1-44e3-a947-e5cb08535fb0"
   },
   "outputs": [
    {
     "name": "stdout",
     "output_type": "stream",
     "text": [
      "Training set (42000, 1024) (42000,)\n",
      "Test set (18000, 1024) (18000,)\n"
     ]
    }
   ],
   "source": [
    "# Load the training, test and validation set\n",
    "X_train = h5f['X_train'][:]\n",
    "y_train = h5f['y_train'][:]\n",
    "X_test = h5f['X_test'][:]\n",
    "y_test = h5f['y_test'][:]\n",
    "\n",
    "\n",
    "# Close this file\n",
    "h5f.close()\n",
    "\n",
    "X_train = X_train.reshape(X_train.shape[0], 1024)\n",
    "X_test = X_test.reshape(X_test.shape[0], 1024)\n",
    "\n",
    "# # normalize inputs from 0-255 to 0-1\n",
    "X_train = X_train / 255.0\n",
    "X_test = X_test / 255.0\n",
    "\n",
    "print('Training set', X_train.shape, y_train.shape)\n",
    "print('Test set', X_test.shape, y_test.shape)"
   ]
  },
  {
   "cell_type": "code",
   "execution_count": 9,
   "metadata": {
    "colab": {
     "base_uri": "https://localhost:8080/",
     "height": 51
    },
    "colab_type": "code",
    "id": "l9Pl6BzLs_pX",
    "outputId": "1b5eff40-d556-49d8-e980-9da27fdeb47a"
   },
   "outputs": [
    {
     "name": "stdout",
     "output_type": "stream",
     "text": [
      "(42000, 1024)\n",
      "(42000,)\n"
     ]
    }
   ],
   "source": [
    "print(X_train.shape)\n",
    "print(y_train.shape)"
   ]
  },
  {
   "cell_type": "code",
   "execution_count": 10,
   "metadata": {
    "colab": {
     "base_uri": "https://localhost:8080/",
     "height": 51
    },
    "colab_type": "code",
    "id": "wuDEXkGltBzX",
    "outputId": "26b0550f-3b4a-4899-dc77-46fdff73c21f"
   },
   "outputs": [
    {
     "name": "stdout",
     "output_type": "stream",
     "text": [
      "(18000, 1024)\n",
      "(18000,)\n"
     ]
    }
   ],
   "source": [
    "print(X_test.shape)\n",
    "print(y_test.shape)"
   ]
  },
  {
   "cell_type": "markdown",
   "metadata": {
    "colab_type": "text",
    "id": "MN6t6TdwtKuD"
   },
   "source": [
    "**Define the Fully Connected Layer**"
   ]
  },
  {
   "cell_type": "code",
   "execution_count": 0,
   "metadata": {
    "colab": {},
    "colab_type": "code",
    "id": "nCsqOl-1tVWe"
   },
   "outputs": [],
   "source": [
    "# The fully connected linear layer does matrix-vector multiplication\n",
    "# of inputs and then add the bias\n",
    "\n",
    "class Linear():\n",
    "    \n",
    "    # this is the constructor that keeps some state\n",
    "    # We have parameters Weights, W\n",
    "    # We have biases, B\n",
    "    # We have the input size & output size\n",
    "    # Size of the images is 28 X 28\n",
    "    # So we have 784 as the input size\n",
    "    # We will have some output size. In our case\n",
    "    # we have 10 classes so our output size will be 10\n",
    "\n",
    "    def __init__(self, in_size, out_size):\n",
    "\n",
    "        # We create a matrix of size input_size X output_size\n",
    "        # i.e. our matrix is of 783 X 10\n",
    "        # And we initialize the weights with 0.01\n",
    "        self.W = np.random.randn(in_size, out_size) * 0.01\n",
    "        \n",
    "        # We set the bias to Zeroes\n",
    "        # The size of the bias will have the size of the output\n",
    "        # So it will have the size 1 X 10\n",
    "        self.b = np.zeros((1, out_size))\n",
    "        \n",
    "        # Its a good practice to have the list of params\n",
    "        # for easier iterations\n",
    "        self.params = [self.W, self.b]\n",
    "        \n",
    "        # We need 3 more variables which we will use in the backward functions\n",
    "        # These are the gradients w.r.t weights, bias & the inputs\n",
    "        self.gradW = None\n",
    "        self.gradB = None\n",
    "        self.gradInput = None        \n",
    "\n",
    "    # Here you have the input X being passed to the forward function\n",
    "    def forward(self, X):\n",
    "        self.X = X\n",
    "\n",
    "        # Vector Matrix multiplication is performed\n",
    "        # Matrix W of weights multipled with the input values\n",
    "        # Bias is then added\n",
    "        # Size of the bias is same as output size\n",
    "        self.output = np.dot(X, self.W) + self.b\n",
    "        return self.output\n",
    "\n",
    "    # When we want to do the backward\n",
    "    # we need the graident coming in from next layer which\n",
    "    # we call here it as nextgrad\n",
    "    def backward(self, nextgrad):\n",
    "        # Gradients for the weights will be gradients coming in \n",
    "        # from the next layer multiplied by the inputs\n",
    "        # This is the Jacobian turns out to be X in case of gradW\n",
    "        # This is the Jacobian turns out to be W in case of gradInput\n",
    "        self.gradW = np.dot(self.X.T, nextgrad)\n",
    "\n",
    "        # We similar compute the gradients for the bias\n",
    "        self.gradB = np.sum(nextgrad, axis=0)\n",
    "\n",
    "        # This are the gradients we will pass to the previous layer\n",
    "        # This is same as multiplication of transpose W with the gradients\n",
    "        # coming in from the next layer        \n",
    "        self.gradInput = np.dot(nextgrad, self.W.T)\n",
    "\n",
    "        # We return the input gradient first and then the\n",
    "        # gradients w.r.t. the parameters W & the bias\n",
    "        return self.gradInput, [self.gradW, self.gradB]"
   ]
  },
  {
   "cell_type": "markdown",
   "metadata": {
    "colab_type": "text",
    "id": "yfmBss1Ztaex"
   },
   "source": [
    "## **Rectified Linear Unit Activation Layer (RELU)**\n",
    "\n",
    "### RELU is an activation function. The ReLU function returns zero when the argument to the function is less than zero and the function is equal to the argument when the argument is above or equal to zero.\n",
    "\n",
    "### It ranges from [0 to Infinity)\n",
    "\n",
    "### The function and its derivative both are monotonic. The issue is that all the negative values become zero immediately which decreases the ability of the model to fit or train from the data properly. That means any negative input given to the ReLU activation function turns the value into zero immediately. \n",
    "\n",
    "### That can make us use LeakyRELU. However, in this case we will go ahead using RELU."
   ]
  },
  {
   "cell_type": "code",
   "execution_count": 0,
   "metadata": {
    "colab": {},
    "colab_type": "code",
    "id": "19ftOU0XtbLK"
   },
   "outputs": [],
   "source": [
    "# Define a class RELU for the Rectified Linear Activation Layer\n",
    "# Note no gradW or gradB parameters because its an activation function\n",
    "# and has no parameters\n",
    "class ReLU():\n",
    "    def __init__(self):\n",
    "        # RELU has no parameters\n",
    "        # However we will initialize to an empty list      \n",
    "        self.params = []\n",
    "\n",
    "        # We will have this gradInput variable to hold the\n",
    "        # state which we will populate in the backward function\n",
    "        self.gradInput = None\n",
    "\n",
    "    def forward(self, X):\n",
    "        # When we have an input, we want\n",
    "        # anything less than zero to be zero i.e y becomes zero\n",
    "        # and anything greater than zero then y becomes x      \n",
    "        self.output = np.maximum(X, 0)\n",
    "        return self.output\n",
    "\n",
    "    def backward(self, nextgrad):\n",
    "        # Copy the gradients coming in from next layer      \n",
    "        self.gradInput = nextgrad.copy()\n",
    "        \n",
    "        # What ii does is whenever the output was positive, \n",
    "        # it lets the gradient from the next layer pass through\n",
    "        # and whenever it was negative it blocks it and makes it equal to zero        \n",
    "        self.gradInput[self.output <=0] = 0\n",
    "        return self.gradInput, []"
   ]
  },
  {
   "cell_type": "markdown",
   "metadata": {
    "colab_type": "text",
    "id": "AIBCYgM_tgQe"
   },
   "source": [
    "##**Define Softmax Function**\n",
    "\n",
    "### Softmax Function is a generalization of the logistic function. The softmax function is used in various multiclass classification methods, such as multinomial logistic regression, multiclass linear discriminant analysis, naive Bayes classifiers, and artificial neural networks."
   ]
  },
  {
   "cell_type": "code",
   "execution_count": 0,
   "metadata": {
    "colab": {},
    "colab_type": "code",
    "id": "LLjn8DE7tg8P"
   },
   "outputs": [],
   "source": [
    "def softmax(x):\n",
    "    # For each omponent we simply exponentiate it\n",
    "    exp_x = np.exp(x - np.max(x, axis=1, keepdims=True))\n",
    "    \n",
    "    # Divide by the sum of all exponentials\n",
    "    return exp_x / np.sum(exp_x, axis=1, keepdims=True)"
   ]
  },
  {
   "cell_type": "markdown",
   "metadata": {
    "colab_type": "text",
    "id": "D6r_pWPmtznj"
   },
   "source": [
    "## **Define the Cross Entropy Loss**\n",
    "\n",
    "### The cross entropy between two probability distributions p and q over the same underlying set of events measures the average number of bits needed to identify an event drawn from the set.\n",
    "\n",
    "### In other words, Cross Entropy is the number of bits we'll need if we encode symbols from  y  using the wrong tool  ŷ.\n",
    "\n",
    "### Cross entropy is always larger than entropy; encoding symbols according to the wrong distribution  ŷ will always make us use more bits. The only exception is the trivial case where  y  and  ŷ   are equal, and in this case entropy and cross entropy are equal."
   ]
  },
  {
   "cell_type": "code",
   "execution_count": 0,
   "metadata": {
    "colab": {},
    "colab_type": "code",
    "id": "pKgmlnKQt0Mk"
   },
   "outputs": [],
   "source": [
    "class CrossEntropy():\n",
    "    def forward(self, X, y):\n",
    "        self.m = y.shape[0]\n",
    "        self.p = softmax(X)\n",
    "        cross_entropy = -np.log(self.p[range(self.m), y])\n",
    "        loss = cross_entropy[0] / self.m\n",
    "        return loss\n",
    "    \n",
    "    def backward(self, X, y):\n",
    "        y_idx = y.argmax()\n",
    "        grad = softmax(X)\n",
    "        grad[range(self.m), y] -= 1\n",
    "        grad /= self.m\n",
    "        return grad"
   ]
  },
  {
   "cell_type": "markdown",
   "metadata": {
    "colab_type": "text",
    "id": "7BBD9BiuxG8p"
   },
   "source": [
    "### **Visualizing first ten images with their labels**"
   ]
  },
  {
   "cell_type": "code",
   "execution_count": 23,
   "metadata": {
    "colab": {
     "base_uri": "https://localhost:8080/",
     "height": 110
    },
    "colab_type": "code",
    "id": "1QIjPdrrxJEj",
    "outputId": "5a920c63-720a-43b0-e7d7-b133e4cec624"
   },
   "outputs": [
    {
     "data": {
      "image/png": "[encoded data removed]",
      "text/plain": [
       "<matplotlib.figure.Figure at 0x7f0089a19c18>"
      ]
     },
     "metadata": {
      "tags": []
     },
     "output_type": "display_data"
    }
   ],
   "source": [
    "# Visualizing the 1st 10 images in our dataset\n",
    "# along with the labels\n",
    "%matplotlib inline\n",
    "import matplotlib.pyplot as plt\n",
    "plt.figure(figsize=(15, 1))\n",
    "for i in range(15):\n",
    "    plt.subplot(1, 15, i+1)\n",
    "    plt.imshow(X_train[i].reshape(32,32), cmap=\"gray\")\n",
    "    plt.title(y_train[i], color='r')\n",
    "    plt.axis(\"off\")\n",
    "plt.show()"
   ]
  },
  {
   "cell_type": "markdown",
   "metadata": {
    "colab_type": "text",
    "id": "s6ERj3g9uNbe"
   },
   "source": [
    "### Define the container NN class that enables the forward prop and backward propagation of the entire network. Note, how this class enables us to add layers of different types and also correctly pass gradients using the chain rule. Add L2 Regularization."
   ]
  },
  {
   "cell_type": "code",
   "execution_count": 0,
   "metadata": {
    "colab": {},
    "colab_type": "code",
    "id": "PXXlHuHvuOm7"
   },
   "outputs": [],
   "source": [
    "# This class enables the forward prop & backward prop to the network\n",
    "class NN():\n",
    "  \n",
    "  # This is the constructor and it takes Cross Entropy as the loss function\n",
    "  # CrossEntropy() is the function that we have defined earlier\n",
    "  def __init__(self, lossfunc=CrossEntropy(), mode='train'):\n",
    "        \n",
    "        # params[] list to have all all the parameters\n",
    "        # If we have 2 layers, then we will have 4 of parameters\n",
    "        # weights & biases of 1st and 2nd layer\n",
    "        self.params = []\n",
    "        \n",
    "        # We assume all our layers are sequential layers\n",
    "        self.layers = []\n",
    "        \n",
    "        # Out loss function is the Cross Entropy Loss Function\n",
    "        self.loss_func = lossfunc\n",
    "        \n",
    "        # This list will contain the gradients w.r.t. the parameters\n",
    "        # So we can use them to update the gradients during training\n",
    "        self.grads = []\n",
    "        \n",
    "        self.mode = mode\n",
    "        \n",
    "        \n",
    "  # add_layer adds layer of different types to the network  \n",
    "  # the layer parameter to the add_layer passes the kind of layer we want\n",
    "  # We have defined types of layers like Linear Layer, RELU Layer\n",
    "  # This function will append the layers to the NN class\n",
    "  # It will also take the parameters of the layers and put it into params[]\n",
    "  def add_layer(self, layer):\n",
    "        self.layers.append(layer)\n",
    "        self.params.append(layer.params)\n",
    "\n",
    "  # This function needs an input X and will give an output X\n",
    "  # The individual forwards of each layer is called\n",
    "  # So the layer.forward() takes X as an input, moves forward through\n",
    "  # the whole layer and gives the output X\n",
    "  # In this function all the layers are iterated through\n",
    "  def forward(self, X):\n",
    "        for layer in self.layers:\n",
    "            X = layer.forward(X)\n",
    "        return X\n",
    "\n",
    "  # \n",
    "  def backward(self, nextgrad):\n",
    "    \n",
    "        # We start with clearing the gradient parameters\n",
    "        # Note: We do not update the weights in the backward()\n",
    "        # This fucntion simply re-initializes the parameters to an \n",
    "        # empty list\n",
    "        self.clear_grad_param()\n",
    "        \n",
    "        # When we want to do backprop, we want to start\n",
    "        # with the last layer. So we use reversed()\n",
    "        for layer in reversed(self.layers):\n",
    "          \n",
    "            # we call the layer.backward() for each layer\n",
    "            # nextgrad are the graidents which we want to pass to the previous \n",
    "            # layer \n",
    "            # grad are the gradients we use to update the params\n",
    "            # so we store grad to self.grads\n",
    "            # the number of elements in self.grads = self.pramas\n",
    "            nextgrad, grad = layer.backward(nextgrad)\n",
    "            \n",
    "            # The layer.backward will call RELU.backward depending on what\n",
    "            # we have passed. Thr RELU.backward will be called with nextgrad\n",
    "            \n",
    "            self.grads.append(grad)\n",
    "            # We keep doing the above for all layers backward\n",
    "        return self.grads\n",
    "\n",
    "  # This is the actual training step\n",
    "  # takes the input X and the target y\n",
    "  # then does the \"forward\"\n",
    "  # calculates the \"loss\"\n",
    "  # then does the \"backward\"\n",
    "  def train_step(self, X, y):\n",
    "    \n",
    "        # calls the forward() to forward the whole thing\n",
    "        # then we have the scores\n",
    "        out = self.forward(X)\n",
    "        \n",
    "        # pass the scores to the cross entropy function\n",
    "        # get the loss from cross entropy function\n",
    "        loss = self.loss_func.forward(out,y)\n",
    "        \n",
    "        # calling the backward\n",
    "        # to get the input gradients that need to be passed\n",
    "        # to the 2nd layer\n",
    "        # size of the next grad will be same as the last later i.e. 10 in our\n",
    "        # case\n",
    "        nextgrad = self.loss_func.backward(out,y)\n",
    "        \n",
    "        # Calls the entire backward of the network\n",
    "        # so that we have the gradients populated\n",
    "        grads = self.backward(nextgrad)\n",
    "        return loss, grads\n",
    "  \n",
    "  # Once we have completely trained the network\n",
    "  # we call the predict function to get the class\n",
    "  # we return the argmax\n",
    "  # Whichever class has max score \n",
    "  def predict(self, X):\n",
    "        \n",
    "        # gets the class from the forward()\n",
    "        X = self.forward(X)\n",
    "        p = softmax(X)\n",
    "        return np.argmax(p, axis=1)\n",
    "  \n",
    "  # Here we do not do the argmax\n",
    "  # Here we get to see the entire scores\n",
    "  def predict_scores(self, X):\n",
    "        X = self.forward(X)\n",
    "        p = softmax(X)\n",
    "        return p\n",
    "  \n",
    "  # This function simply clears the self.grads\n",
    "  def clear_grad_param(self):\n",
    "        self.grads = []"
   ]
  },
  {
   "cell_type": "markdown",
   "metadata": {
    "colab_type": "text",
    "id": "OvT2oxeuuU30"
   },
   "source": [
    "### Define the update function (SGD)"
   ]
  },
  {
   "cell_type": "code",
   "execution_count": 0,
   "metadata": {
    "colab": {},
    "colab_type": "code",
    "id": "82BcRmaruV-U"
   },
   "outputs": [],
   "source": [
    "def update(velocity, params, grads, learning_rate=0.01, mu=0.9):\n",
    "    for v, p, g, in zip(velocity, params, reversed(grads)):\n",
    "        for i in range(len(g)):\n",
    "            v[i] = (mu * v[i]) - (learning_rate * g[i])\n",
    "            p[i] += v[i]"
   ]
  },
  {
   "cell_type": "markdown",
   "metadata": {
    "colab_type": "text",
    "id": "fjNlNoLruWHq"
   },
   "source": [
    " ### Define a function which gives us the minibatches (both the datapoint and the corresponding label)\n"
   ]
  },
  {
   "cell_type": "code",
   "execution_count": 0,
   "metadata": {
    "colab": {},
    "colab_type": "code",
    "id": "jxWr6dzruYtn"
   },
   "outputs": [],
   "source": [
    "# get minibatches\n",
    "def minibatch(X, y, minibatch_size):\n",
    "    n = X.shape[0]\n",
    "    minibatches = []\n",
    "    permutation = np.random.permutation(X.shape[0])\n",
    "    X = X[permutation]\n",
    "    y = y[permutation]\n",
    "    \n",
    "    for i in range(0, n , minibatch_size):\n",
    "        X_batch = X[i:i + minibatch_size, :]\n",
    "        y_batch = y[i:i + minibatch_size, ]\n",
    "\n",
    "        minibatches.append((X_batch, y_batch))\n",
    "    return minibatches"
   ]
  },
  {
   "cell_type": "markdown",
   "metadata": {
    "colab_type": "text",
    "id": "ZPH6TxCpuaX2"
   },
   "source": [
    "### The traning loop\n"
   ]
  },
  {
   "cell_type": "code",
   "execution_count": 0,
   "metadata": {
    "colab": {},
    "colab_type": "code",
    "id": "G3iSYX_ZubV2"
   },
   "outputs": [],
   "source": [
    "def sgd(net, X_train, y_train, minibatch_size, epoch, learning_rate, mu=0.9, X_val=None, y_val=None, Lambda=0, verb=True):\n",
    "    val_loss_epoch = []\n",
    "    minibatches = minibatch(X_train, y_train, minibatch_size)\n",
    "    minibatches_val = minibatch(X_val, y_val, minibatch_size)\n",
    "    \n",
    "    for i in range(epoch):\n",
    "        loss_batch = []\n",
    "        val_loss_batch = []\n",
    "        velocity = []\n",
    "        for param_layer in net.params:\n",
    "            p = [np.zeros_like(param) for param in list(param_layer)]\n",
    "            velocity.append(p)\n",
    "            \n",
    "        # iterate over mini batches\n",
    "        for X_mini, y_mini in minibatches:\n",
    "            loss, grads = net.train_step(X_mini, y_mini)\n",
    "            loss_batch.append(loss)\n",
    "            update(velocity, net.params, grads, learning_rate=learning_rate, mu=mu)\n",
    "\n",
    "        for X_mini_val, y_mini_val in minibatches_val:\n",
    "            val_loss, _ = net.train_step(X_mini, y_mini)\n",
    "            val_loss_batch.append(val_loss)\n",
    "        \n",
    "        # accuracy of model at end of epoch after all mini batch updates\n",
    "        m_train = X_train.shape[0]\n",
    "        m_val = X_val.shape[0]\n",
    "        y_train_pred = []\n",
    "        y_val_pred = []\n",
    "        y_train1 = []\n",
    "        y_vall = []\n",
    "        for ii in range(0, m_train, minibatch_size):\n",
    "            X_tr = X_train[ii:ii + minibatch_size, : ]\n",
    "            y_tr = y_train[ii:ii + minibatch_size,]\n",
    "            y_train1 = np.append(y_train1, y_tr)\n",
    "            y_train_pred = np.append(y_train_pred, net.predict(X_tr))\n",
    "\n",
    "        for ii in range(0, m_val, minibatch_size):\n",
    "            X_va = X_val[ii:ii + minibatch_size, : ]\n",
    "            y_va = y_val[ii:ii + minibatch_size,]\n",
    "            y_vall = np.append(y_vall, y_va)\n",
    "            y_val_pred = np.append(y_val_pred, net.predict(X_va))\n",
    "            \n",
    "        train_acc = check_accuracy(y_train1, y_train_pred)\n",
    "        val_acc = check_accuracy(y_vall, y_val_pred)\n",
    "        \n",
    "        ## weights\n",
    "        w = np.array(net.params[0][0])\n",
    "        \n",
    "        ## adding regularization to cost\n",
    "        mean_train_loss = (sum(loss_batch) / float(len(loss_batch)))\n",
    "        mean_val_loss = sum(val_loss_batch) / float(len(val_loss_batch))\n",
    "        \n",
    "        val_loss_epoch.append(mean_val_loss)\n",
    "        if verb:\n",
    "            if i%50==0:\n",
    "                print(\"Epoch {3}/{4}: Loss = {0} | Training Accuracy = {1}\".format(mean_train_loss, train_acc, val_acc, i, epoch))\n",
    "    return net, val_acc"
   ]
  },
  {
   "cell_type": "markdown",
   "metadata": {
    "colab_type": "text",
    "id": "xF10qepsudJo"
   },
   "source": [
    "### Checking the accuracy of the model "
   ]
  },
  {
   "cell_type": "code",
   "execution_count": 0,
   "metadata": {
    "colab": {},
    "colab_type": "code",
    "id": "q5qyyNqqud-u"
   },
   "outputs": [],
   "source": [
    "def check_accuracy(y_true, y_pred):\n",
    "    count = 0\n",
    "    for i,j in zip(y_true, y_pred):\n",
    "        if int(i)==j:\n",
    "            count +=1\n",
    "    return float(count)/float(len(y_true))"
   ]
  },
  {
   "cell_type": "code",
   "execution_count": 21,
   "metadata": {
    "colab": {
     "base_uri": "https://localhost:8080/",
     "height": 34
    },
    "colab_type": "code",
    "id": "59wCRZJEGndM",
    "outputId": "5b36953a-c617-41ef-8764-340fd22c2663"
   },
   "outputs": [
    {
     "data": {
      "text/plain": [
       "(42000, 1024)"
      ]
     },
     "execution_count": 21,
     "metadata": {
      "tags": []
     },
     "output_type": "execute_result"
    }
   ],
   "source": [
    "X_train.shape"
   ]
  },
  {
   "cell_type": "markdown",
   "metadata": {
    "colab_type": "text",
    "id": "LVQcksSFufvh"
   },
   "source": [
    "### Invoking all that we have created until now"
   ]
  },
  {
   "cell_type": "code",
   "execution_count": 0,
   "metadata": {
    "colab": {},
    "colab_type": "code",
    "id": "EcMZswAuugnY"
   },
   "outputs": [],
   "source": [
    "from random import shuffle\n",
    "\n",
    "\n",
    "## input size\n",
    "input_dim = X_train.shape[1]\n",
    "\n",
    "def train_and_test_loop(iterations, lr, Lambda, verb=True):\n",
    "    ## hyperparameters\n",
    "    iterations = iterations\n",
    "    learning_rate = lr\n",
    "    hidden_nodes = 10\n",
    "    output_nodes = 10\n",
    "\n",
    "    ## define neural net\n",
    "    nn = NN()\n",
    "    nn.add_layer(Linear(input_dim, hidden_nodes))\n",
    "\n",
    "    nn, val_acc = sgd(nn, X_train , y_train, minibatch_size=1000, epoch=iterations, learning_rate=learning_rate,\\\n",
    "                      X_val=X_test, y_val=y_test, Lambda=Lambda, verb=verb)\n",
    "    return val_acc"
   ]
  },
  {
   "cell_type": "markdown",
   "metadata": {
    "colab_type": "text",
    "id": "pTF02rdDuiRr"
   },
   "source": [
    "### Double Check that the loss is reasonable : Disable the regularization\n"
   ]
  },
  {
   "cell_type": "code",
   "execution_count": 30,
   "metadata": {
    "colab": {
     "base_uri": "https://localhost:8080/",
     "height": 51
    },
    "colab_type": "code",
    "id": "d0RaMFDmujA3",
    "outputId": "d9d2bf4e-bb1b-43ef-cb67-5d33a31f174d"
   },
   "outputs": [
    {
     "name": "stdout",
     "output_type": "stream",
     "text": [
      "Epoch 0/1: Loss = 0.0022953103716985518 | Training Accuracy = 0.10354761904761904\n"
     ]
    },
    {
     "data": {
      "text/plain": [
       "0.10516666666666667"
      ]
     },
     "execution_count": 30,
     "metadata": {
      "tags": []
     },
     "output_type": "execute_result"
    }
   ],
   "source": [
    "lr = 0.00001\n",
    "Lambda = 0\n",
    "train_and_test_loop(1, lr, Lambda)"
   ]
  },
  {
   "cell_type": "markdown",
   "metadata": {
    "colab_type": "text",
    "id": "SA4wYvig8i-y"
   },
   "source": [
    "### Now, lets crank up the Lambda(Regularization)and check what it does to our loss function."
   ]
  },
  {
   "cell_type": "code",
   "execution_count": 24,
   "metadata": {
    "colab": {
     "base_uri": "https://localhost:8080/",
     "height": 51
    },
    "colab_type": "code",
    "id": "Fl2W1FVg8mua",
    "outputId": "305bfe9f-2310-42da-b614-0b0c78bed290"
   },
   "outputs": [
    {
     "name": "stdout",
     "output_type": "stream",
     "text": [
      "Epoch 0/1: Loss = 0.002290574556999201 | Training Accuracy = 0.10066666666666667\n"
     ]
    },
    {
     "data": {
      "text/plain": [
       "0.10283333333333333"
      ]
     },
     "execution_count": 24,
     "metadata": {
      "tags": []
     },
     "output_type": "execute_result"
    }
   ],
   "source": [
    "lr = 0.00001\n",
    "Lambda = 1e3\n",
    "train_and_test_loop(1, lr, Lambda)"
   ]
  },
  {
   "cell_type": "markdown",
   "metadata": {
    "colab_type": "text",
    "id": "xzpzJyLh8oUB"
   },
   "source": [
    "### Now, lets overfit to a small subset of our dataset, in this case 20 images."
   ]
  },
  {
   "cell_type": "code",
   "execution_count": 25,
   "metadata": {
    "colab": {
     "base_uri": "https://localhost:8080/",
     "height": 51
    },
    "colab_type": "code",
    "id": "MTyTBm8Y8qeQ",
    "outputId": "eb2de761-31d3-4c98-e336-28ea982a053f"
   },
   "outputs": [
    {
     "name": "stdout",
     "output_type": "stream",
     "text": [
      "(20, 1024)\n",
      "(20,)\n"
     ]
    }
   ],
   "source": [
    "X_train_subset = X_train[0:20]\n",
    "y_train_subset = y_train[0:20]\n",
    "X_train = X_train_subset\n",
    "y_train = y_train_subset\n",
    "print(X_train.shape)\n",
    "print(y_train.shape)"
   ]
  },
  {
   "cell_type": "markdown",
   "metadata": {
    "colab_type": "text",
    "id": "dixkUn4U8yiw"
   },
   "source": [
    "### Tip: Make sure that you can overfit very small portion of the training data\n",
    "So, set a small learning rate and turn regularization off\n",
    "\n",
    "In the code below:\n",
    "- Take the first 20 examples from MNIST\n",
    "- turn off regularization(reg=0.0)\n",
    "- use simple vanilla 'sgd'"
   ]
  },
  {
   "cell_type": "code",
   "execution_count": 26,
   "metadata": {
    "colab": {
     "base_uri": "https://localhost:8080/",
     "height": 3434
    },
    "colab_type": "code",
    "id": "5-f3eui681Qv",
    "outputId": "a4e72f8f-b252-4872-c158-21657e9eace7"
   },
   "outputs": [
    {
     "name": "stdout",
     "output_type": "stream",
     "text": [
      "Epoch 0/10000: Loss = 0.1153187839055569 | Training Accuracy = 0.15\n",
      "Epoch 50/10000: Loss = 0.11029793766366283 | Training Accuracy = 0.2\n",
      "Epoch 100/10000: Loss = 0.1063778994313391 | Training Accuracy = 0.2\n",
      "Epoch 150/10000: Loss = 0.10328278684699332 | Training Accuracy = 0.2\n",
      "Epoch 200/10000: Loss = 0.1007869880883187 | Training Accuracy = 0.2\n",
      "Epoch 250/10000: Loss = 0.09871880450859835 | Training Accuracy = 0.15\n",
      "Epoch 300/10000: Loss = 0.09695482732486 | Training Accuracy = 0.2\n",
      "Epoch 350/10000: Loss = 0.09541031479573828 | Training Accuracy = 0.15\n",
      "Epoch 400/10000: Loss = 0.0940290741148464 | Training Accuracy = 0.25\n",
      "Epoch 450/10000: Loss = 0.09277467459989402 | Training Accuracy = 0.25\n",
      "Epoch 500/10000: Loss = 0.09162363890865667 | Training Accuracy = 0.3\n",
      "Epoch 550/10000: Loss = 0.09056057953577584 | Training Accuracy = 0.25\n",
      "Epoch 600/10000: Loss = 0.08957494330387386 | Training Accuracy = 0.3\n",
      "Epoch 650/10000: Loss = 0.0886589527660627 | Training Accuracy = 0.3\n",
      "Epoch 700/10000: Loss = 0.0878063743903937 | Training Accuracy = 0.3\n",
      "Epoch 750/10000: Loss = 0.08701182461373395 | Training Accuracy = 0.3\n",
      "Epoch 800/10000: Loss = 0.08627040735202048 | Training Accuracy = 0.3\n",
      "Epoch 850/10000: Loss = 0.08557754461059135 | Training Accuracy = 0.3\n",
      "Epoch 900/10000: Loss = 0.08492891217070322 | Training Accuracy = 0.3\n",
      "Epoch 950/10000: Loss = 0.08432042702108498 | Training Accuracy = 0.3\n",
      "Epoch 1000/10000: Loss = 0.08374825590200968 | Training Accuracy = 0.3\n",
      "Epoch 1050/10000: Loss = 0.08320882854219139 | Training Accuracy = 0.3\n",
      "Epoch 1100/10000: Loss = 0.08269884769558866 | Training Accuracy = 0.3\n",
      "Epoch 1150/10000: Loss = 0.08221529295738947 | Training Accuracy = 0.3\n",
      "Epoch 1200/10000: Loss = 0.08175541794584221 | Training Accuracy = 0.35\n",
      "Epoch 1250/10000: Loss = 0.08131674169128121 | Training Accuracy = 0.35\n",
      "Epoch 1300/10000: Loss = 0.08089703555483034 | Training Accuracy = 0.4\n",
      "Epoch 1350/10000: Loss = 0.08049430706366642 | Training Accuracy = 0.4\n",
      "Epoch 1400/10000: Loss = 0.08010678191038317 | Training Accuracy = 0.4\n",
      "Epoch 1450/10000: Loss = 0.07973288514328014 | Training Accuracy = 0.4\n",
      "Epoch 1500/10000: Loss = 0.07937122233898009 | Training Accuracy = 0.4\n",
      "Epoch 1550/10000: Loss = 0.07902056133200525 | Training Accuracy = 0.4\n",
      "Epoch 1600/10000: Loss = 0.07867981489189166 | Training Accuracy = 0.4\n",
      "Epoch 1650/10000: Loss = 0.07834802459053067 | Training Accuracy = 0.4\n",
      "Epoch 1700/10000: Loss = 0.07802434598866528 | Training Accuracy = 0.4\n",
      "Epoch 1750/10000: Loss = 0.07770803518637906 | Training Accuracy = 0.4\n",
      "Epoch 1800/10000: Loss = 0.07739843672277777 | Training Accuracy = 0.45\n",
      "Epoch 1850/10000: Loss = 0.07709497276982029 | Training Accuracy = 0.45\n",
      "Epoch 1900/10000: Loss = 0.07679713353990215 | Training Accuracy = 0.45\n",
      "Epoch 1950/10000: Loss = 0.07650446881254133 | Training Accuracy = 0.45\n",
      "Epoch 2000/10000: Loss = 0.07621658047930382 | Training Accuracy = 0.45\n",
      "Epoch 2050/10000: Loss = 0.07593311600551447 | Training Accuracy = 0.45\n",
      "Epoch 2100/10000: Loss = 0.0756537627104889 | Training Accuracy = 0.45\n",
      "Epoch 2150/10000: Loss = 0.07537824277359942 | Training Accuracy = 0.45\n",
      "Epoch 2200/10000: Loss = 0.07510630888044927 | Training Accuracy = 0.45\n",
      "Epoch 2250/10000: Loss = 0.07483774043103432 | Training Accuracy = 0.45\n",
      "Epoch 2300/10000: Loss = 0.07457234023953588 | Training Accuracy = 0.45\n",
      "Epoch 2350/10000: Loss = 0.07430993166295728 | Training Accuracy = 0.45\n",
      "Epoch 2400/10000: Loss = 0.07405035610299059 | Training Accuracy = 0.45\n",
      "Epoch 2450/10000: Loss = 0.07379347083214813 | Training Accuracy = 0.45\n",
      "Epoch 2500/10000: Loss = 0.07353914710125564 | Training Accuracy = 0.45\n",
      "Epoch 2550/10000: Loss = 0.07328726849086471 | Training Accuracy = 0.45\n",
      "Epoch 2600/10000: Loss = 0.07303772947400951 | Training Accuracy = 0.45\n",
      "Epoch 2650/10000: Loss = 0.07279043416204142 | Training Accuracy = 0.45\n",
      "Epoch 2700/10000: Loss = 0.07254529520905859 | Training Accuracy = 0.45\n",
      "Epoch 2750/10000: Loss = 0.07230223285376032 | Training Accuracy = 0.45\n",
      "Epoch 2800/10000: Loss = 0.07206117408043616 | Training Accuracy = 0.5\n",
      "Epoch 2850/10000: Loss = 0.07182205188330264 | Training Accuracy = 0.5\n",
      "Epoch 2900/10000: Loss = 0.0715848046205648 | Training Accuracy = 0.5\n",
      "Epoch 2950/10000: Loss = 0.07134937544644812 | Training Accuracy = 0.5\n",
      "Epoch 3000/10000: Loss = 0.0711157118110592 | Training Accuracy = 0.5\n",
      "Epoch 3050/10000: Loss = 0.07088376501932041 | Training Accuracy = 0.5\n",
      "Epoch 3100/10000: Loss = 0.07065348984141614 | Training Accuracy = 0.5\n",
      "Epoch 3150/10000: Loss = 0.0704248441682175 | Training Accuracy = 0.5\n",
      "Epoch 3200/10000: Loss = 0.07019778870603052 | Training Accuracy = 0.5\n",
      "Epoch 3250/10000: Loss = 0.0699722867057747 | Training Accuracy = 0.5\n",
      "Epoch 3300/10000: Loss = 0.06974830372234808 | Training Accuracy = 0.5\n",
      "Epoch 3350/10000: Loss = 0.06952580740049649 | Training Accuracy = 0.5\n",
      "Epoch 3400/10000: Loss = 0.06930476728398852 | Training Accuracy = 0.5\n",
      "Epoch 3450/10000: Loss = 0.06908515464531054 | Training Accuracy = 0.5\n",
      "Epoch 3500/10000: Loss = 0.06886694233345747 | Training Accuracy = 0.55\n",
      "Epoch 3550/10000: Loss = 0.0686501046377018 | Training Accuracy = 0.55\n",
      "Epoch 3600/10000: Loss = 0.0684346171654927 | Training Accuracy = 0.55\n",
      "Epoch 3650/10000: Loss = 0.068220456732866 | Training Accuracy = 0.55\n",
      "Epoch 3700/10000: Loss = 0.06800760126594776 | Training Accuracy = 0.55\n",
      "Epoch 3750/10000: Loss = 0.06779602971230703 | Training Accuracy = 0.55\n",
      "Epoch 3800/10000: Loss = 0.0675857219610643 | Training Accuracy = 0.55\n",
      "Epoch 3850/10000: Loss = 0.06737665877079368 | Training Accuracy = 0.55\n",
      "Epoch 3900/10000: Loss = 0.06716882170437008 | Training Accuracy = 0.55\n",
      "Epoch 3950/10000: Loss = 0.0669621930700144 | Training Accuracy = 0.55\n",
      "Epoch 4000/10000: Loss = 0.06675675586787441 | Training Accuracy = 0.55\n",
      "Epoch 4050/10000: Loss = 0.06655249374155739 | Training Accuracy = 0.55\n",
      "Epoch 4100/10000: Loss = 0.06634939093409556 | Training Accuracy = 0.55\n",
      "Epoch 4150/10000: Loss = 0.06614743224788576 | Training Accuracy = 0.55\n",
      "Epoch 4200/10000: Loss = 0.06594660300819445 | Training Accuracy = 0.55\n",
      "Epoch 4250/10000: Loss = 0.06574688902986617 | Training Accuracy = 0.55\n",
      "Epoch 4300/10000: Loss = 0.06554827658691227 | Training Accuracy = 0.55\n",
      "Epoch 4350/10000: Loss = 0.06535075238469214 | Training Accuracy = 0.55\n",
      "Epoch 4400/10000: Loss = 0.06515430353443187 | Training Accuracy = 0.55\n",
      "Epoch 4450/10000: Loss = 0.06495891752984963 | Training Accuracy = 0.55\n",
      "Epoch 4500/10000: Loss = 0.0647645822256843 | Training Accuracy = 0.55\n",
      "Epoch 4550/10000: Loss = 0.06457128581794504 | Training Accuracy = 0.55\n",
      "Epoch 4600/10000: Loss = 0.06437901682571655 | Training Accuracy = 0.55\n",
      "Epoch 4650/10000: Loss = 0.06418776407437464 | Training Accuracy = 0.55\n",
      "Epoch 4700/10000: Loss = 0.06399751668008015 | Training Accuracy = 0.55\n",
      "Epoch 4750/10000: Loss = 0.06380826403543259 | Training Accuracy = 0.55\n",
      "Epoch 4800/10000: Loss = 0.06361999579617876 | Training Accuracy = 0.55\n",
      "Epoch 4850/10000: Loss = 0.06343270186887941 | Training Accuracy = 0.55\n",
      "Epoch 4900/10000: Loss = 0.06324637239944951 | Training Accuracy = 0.55\n",
      "Epoch 4950/10000: Loss = 0.06306099776249384 | Training Accuracy = 0.55\n",
      "Epoch 5000/10000: Loss = 0.06287656855136917 | Training Accuracy = 0.55\n",
      "Epoch 5050/10000: Loss = 0.06269307556890955 | Training Accuracy = 0.55\n",
      "Epoch 5100/10000: Loss = 0.06251050981875832 | Training Accuracy = 0.55\n",
      "Epoch 5150/10000: Loss = 0.06232886249725559 | Training Accuracy = 0.55\n",
      "Epoch 5200/10000: Loss = 0.062148124985834705 | Training Accuracy = 0.55\n",
      "Epoch 5250/10000: Loss = 0.0619682888438864 | Training Accuracy = 0.55\n",
      "Epoch 5300/10000: Loss = 0.061789345802051865 | Training Accuracy = 0.55\n",
      "Epoch 5350/10000: Loss = 0.06161128775591076 | Training Accuracy = 0.55\n",
      "Epoch 5400/10000: Loss = 0.061434106760033344 | Training Accuracy = 0.55\n",
      "Epoch 5450/10000: Loss = 0.061257795022367376 | Training Accuracy = 0.55\n",
      "Epoch 5500/10000: Loss = 0.061082344898935284 | Training Accuracy = 0.55\n",
      "Epoch 5550/10000: Loss = 0.06090774888881739 | Training Accuracy = 0.55\n",
      "Epoch 5600/10000: Loss = 0.06073399962939964 | Training Accuracy = 0.55\n",
      "Epoch 5650/10000: Loss = 0.06056108989186787 | Training Accuracy = 0.55\n",
      "Epoch 5700/10000: Loss = 0.0603890125769288 | Training Accuracy = 0.55\n",
      "Epoch 5750/10000: Loss = 0.06021776071074349 | Training Accuracy = 0.55\n",
      "Epoch 5800/10000: Loss = 0.060047327441057397 | Training Accuracy = 0.55\n",
      "Epoch 5850/10000: Loss = 0.05987770603351379 | Training Accuracy = 0.6\n",
      "Epoch 5900/10000: Loss = 0.059708889868138534 | Training Accuracy = 0.6\n",
      "Epoch 5950/10000: Loss = 0.05954087243598406 | Training Accuracy = 0.6\n",
      "Epoch 6000/10000: Loss = 0.059373647335923485 | Training Accuracy = 0.6\n",
      "Epoch 6050/10000: Loss = 0.05920720827158353 | Training Accuracy = 0.6\n",
      "Epoch 6100/10000: Loss = 0.05904154904840937 | Training Accuracy = 0.6\n",
      "Epoch 6150/10000: Loss = 0.05887666357085197 | Training Accuracy = 0.6\n",
      "Epoch 6200/10000: Loss = 0.058712545839671046 | Training Accuracy = 0.6\n",
      "Epoch 6250/10000: Loss = 0.058549189949346804 | Training Accuracy = 0.6\n",
      "Epoch 6300/10000: Loss = 0.058386590085593916 | Training Accuracy = 0.6\n",
      "Epoch 6350/10000: Loss = 0.058224740522972364 | Training Accuracy = 0.6\n",
      "Epoch 6400/10000: Loss = 0.05806363562258867 | Training Accuracy = 0.6\n",
      "Epoch 6450/10000: Loss = 0.057903269829884176 | Training Accuracy = 0.65\n",
      "Epoch 6500/10000: Loss = 0.057743637672503886 | Training Accuracy = 0.65\n",
      "Epoch 6550/10000: Loss = 0.05758473375824337 | Training Accuracy = 0.65\n",
      "Epoch 6600/10000: Loss = 0.057426552773068004 | Training Accuracy = 0.65\n",
      "Epoch 6650/10000: Loss = 0.05726908947920203 | Training Accuracy = 0.65\n",
      "Epoch 6700/10000: Loss = 0.05711233871328388 | Training Accuracy = 0.65\n",
      "Epoch 6750/10000: Loss = 0.056956295384583654 | Training Accuracy = 0.65\n",
      "Epoch 6800/10000: Loss = 0.056800954473280395 | Training Accuracy = 0.65\n",
      "Epoch 6850/10000: Loss = 0.0566463110287969 | Training Accuracy = 0.65\n",
      "Epoch 6900/10000: Loss = 0.056492360168188 | Training Accuracy = 0.65\n",
      "Epoch 6950/10000: Loss = 0.056339097074581124 | Training Accuracy = 0.65\n",
      "Epoch 7000/10000: Loss = 0.056186516995666035 | Training Accuracy = 0.65\n",
      "Epoch 7050/10000: Loss = 0.05603461524223206 | Training Accuracy = 0.65\n",
      "Epoch 7100/10000: Loss = 0.055883387186750566 | Training Accuracy = 0.65\n",
      "Epoch 7150/10000: Loss = 0.05573282826200073 | Training Accuracy = 0.65\n",
      "Epoch 7200/10000: Loss = 0.055582933959736604 | Training Accuracy = 0.65\n",
      "Epoch 7250/10000: Loss = 0.05543369982939465 | Training Accuracy = 0.65\n",
      "Epoch 7300/10000: Loss = 0.05528512147683874 | Training Accuracy = 0.65\n",
      "Epoch 7350/10000: Loss = 0.055137194563142276 | Training Accuracy = 0.65\n",
      "Epoch 7400/10000: Loss = 0.05498991480340546 | Training Accuracy = 0.65\n",
      "Epoch 7450/10000: Loss = 0.054843277965606584 | Training Accuracy = 0.65\n",
      "Epoch 7500/10000: Loss = 0.054697279869485894 | Training Accuracy = 0.65\n",
      "Epoch 7550/10000: Loss = 0.054551916385460676 | Training Accuracy = 0.65\n",
      "Epoch 7600/10000: Loss = 0.054407183433570705 | Training Accuracy = 0.65\n",
      "Epoch 7650/10000: Loss = 0.054263076982453175 | Training Accuracy = 0.65\n",
      "Epoch 7700/10000: Loss = 0.054119593048345016 | Training Accuracy = 0.65\n",
      "Epoch 7750/10000: Loss = 0.053976727694113116 | Training Accuracy = 0.65\n",
      "Epoch 7800/10000: Loss = 0.053834477028310124 | Training Accuracy = 0.65\n",
      "Epoch 7850/10000: Loss = 0.053692837204255696 | Training Accuracy = 0.65\n",
      "Epoch 7900/10000: Loss = 0.0535518044191425 | Training Accuracy = 0.65\n",
      "Epoch 7950/10000: Loss = 0.05341137491316489 | Training Accuracy = 0.65\n",
      "Epoch 8000/10000: Loss = 0.05327154496867179 | Training Accuracy = 0.65\n",
      "Epoch 8050/10000: Loss = 0.05313231090934025 | Training Accuracy = 0.65\n",
      "Epoch 8100/10000: Loss = 0.052993669099371324 | Training Accuracy = 0.65\n",
      "Epoch 8150/10000: Loss = 0.05285561594270575 | Training Accuracy = 0.65\n",
      "Epoch 8200/10000: Loss = 0.05271814788226078 | Training Accuracy = 0.65\n",
      "Epoch 8250/10000: Loss = 0.052581261399185286 | Training Accuracy = 0.65\n",
      "Epoch 8300/10000: Loss = 0.05244495301213421 | Training Accuracy = 0.65\n",
      "Epoch 8350/10000: Loss = 0.05230921927656111 | Training Accuracy = 0.65\n",
      "Epoch 8400/10000: Loss = 0.052174056784028366 | Training Accuracy = 0.65\n",
      "Epoch 8450/10000: Loss = 0.05203946216153458 | Training Accuracy = 0.65\n",
      "Epoch 8500/10000: Loss = 0.051905432070858216 | Training Accuracy = 0.65\n",
      "Epoch 8550/10000: Loss = 0.05177196320791799 | Training Accuracy = 0.65\n",
      "Epoch 8600/10000: Loss = 0.051639052302148214 | Training Accuracy = 0.65\n",
      "Epoch 8650/10000: Loss = 0.051506696115889816 | Training Accuracy = 0.65\n",
      "Epoch 8700/10000: Loss = 0.05137489144379591 | Training Accuracy = 0.65\n",
      "Epoch 8750/10000: Loss = 0.05124363511225157 | Training Accuracy = 0.65\n",
      "Epoch 8800/10000: Loss = 0.05111292397880809 | Training Accuracy = 0.65\n",
      "Epoch 8850/10000: Loss = 0.05098275493162978 | Training Accuracy = 0.65\n",
      "Epoch 8900/10000: Loss = 0.05085312488895477 | Training Accuracy = 0.65\n",
      "Epoch 8950/10000: Loss = 0.05072403079856826 | Training Accuracy = 0.65\n",
      "Epoch 9000/10000: Loss = 0.05059546963728832 | Training Accuracy = 0.65\n",
      "Epoch 9050/10000: Loss = 0.050467438410463514 | Training Accuracy = 0.65\n",
      "Epoch 9100/10000: Loss = 0.050339934151482434 | Training Accuracy = 0.65\n",
      "Epoch 9150/10000: Loss = 0.05021295392129478 | Training Accuracy = 0.65\n",
      "Epoch 9200/10000: Loss = 0.050086494807943305 | Training Accuracy = 0.65\n",
      "Epoch 9250/10000: Loss = 0.04996055392610722 | Training Accuracy = 0.65\n",
      "Epoch 9300/10000: Loss = 0.04983512841665491 | Training Accuracy = 0.65\n",
      "Epoch 9350/10000: Loss = 0.04971021544620823 | Training Accuracy = 0.65\n",
      "Epoch 9400/10000: Loss = 0.0495858122067162 | Training Accuracy = 0.65\n",
      "Epoch 9450/10000: Loss = 0.049461915915037916 | Training Accuracy = 0.65\n",
      "Epoch 9500/10000: Loss = 0.049338523812536256 | Training Accuracy = 0.65\n",
      "Epoch 9550/10000: Loss = 0.049215633164679404 | Training Accuracy = 0.65\n",
      "Epoch 9600/10000: Loss = 0.04909324126065237 | Training Accuracy = 0.65\n",
      "Epoch 9650/10000: Loss = 0.04897134541297659 | Training Accuracy = 0.65\n",
      "Epoch 9700/10000: Loss = 0.0488499429571385 | Training Accuracy = 0.65\n",
      "Epoch 9750/10000: Loss = 0.048729031251226365 | Training Accuracy = 0.65\n",
      "Epoch 9800/10000: Loss = 0.048608607675575 | Training Accuracy = 0.65\n",
      "Epoch 9850/10000: Loss = 0.048488669632418296 | Training Accuracy = 0.65\n",
      "Epoch 9900/10000: Loss = 0.04836921454555021 | Training Accuracy = 0.65\n",
      "Epoch 9950/10000: Loss = 0.048250239859992175 | Training Accuracy = 0.65\n"
     ]
    },
    {
     "data": {
      "text/plain": [
       "0.1126111111111111"
      ]
     },
     "execution_count": 26,
     "metadata": {
      "tags": []
     },
     "output_type": "execute_result"
    }
   ],
   "source": [
    "lr = 0.0001\n",
    "Lambda = 0\n",
    "train_and_test_loop(10000, lr, Lambda)"
   ]
  },
  {
   "cell_type": "markdown",
   "metadata": {
    "colab_type": "text",
    "id": "Z8dp-HzF848y"
   },
   "source": [
    "### Loading the original dataset again"
   ]
  },
  {
   "cell_type": "code",
   "execution_count": 31,
   "metadata": {
    "colab": {
     "base_uri": "https://localhost:8080/",
     "height": 51
    },
    "colab_type": "code",
    "id": "uEDCPfxA85kj",
    "outputId": "65179f18-307d-4650-eaee-40e5e39f7a67"
   },
   "outputs": [
    {
     "name": "stdout",
     "output_type": "stream",
     "text": [
      "Training set (42000, 1024) (42000,)\n",
      "Test set (18000, 1024) (18000,)\n"
     ]
    }
   ],
   "source": [
    "# Open the file as readonly\n",
    "h5f = h5py.File('/content/drive/My Drive/DLCP/SVHN_single_grey1.h5', 'r')\n",
    "\n",
    "# Load the training, test and validation set\n",
    "X_train = h5f['X_train'][:]\n",
    "y_train = h5f['y_train'][:]\n",
    "X_test = h5f['X_test'][:]\n",
    "y_test = h5f['y_test'][:]\n",
    "\n",
    "\n",
    "# Close this file\n",
    "h5f.close()\n",
    "\n",
    "X_train = X_train.reshape(X_train.shape[0], 1024)\n",
    "X_test = X_test.reshape(X_test.shape[0], 1024)\n",
    "\n",
    "# # normalize inputs from 0-255 to 0-1\n",
    "X_train = X_train / 255.0\n",
    "X_test = X_test / 255.0\n",
    "\n",
    "print('Training set', X_train.shape, y_train.shape)\n",
    "print('Test set', X_test.shape, y_test.shape)\n",
    "\n",
    "X_val = X_test\n",
    "y_val = y_test\n",
    "\n"
   ]
  },
  {
   "cell_type": "markdown",
   "metadata": {
    "colab_type": "text",
    "id": "JU3kpjenLgCO"
   },
   "source": [
    "### Start with small regularization and find learning rate that makes the loss go down.\n",
    "\n",
    "- we start with Lambda(small regularization) = 1e-7\n",
    "- we start with a small learning rate = 1e-7"
   ]
  },
  {
   "cell_type": "code",
   "execution_count": 28,
   "metadata": {
    "colab": {
     "base_uri": "https://localhost:8080/",
     "height": 204
    },
    "colab_type": "code",
    "id": "wksmE-jZLgkA",
    "outputId": "8e643013-14c0-4946-e43c-b3883233563e"
   },
   "outputs": [
    {
     "name": "stdout",
     "output_type": "stream",
     "text": [
      "Epoch 0/500: Loss = 0.0023200377189507575 | Training Accuracy = 0.1040952380952381\n",
      "Epoch 50/500: Loss = 0.0023191087808429075 | Training Accuracy = 0.1040952380952381\n",
      "Epoch 100/500: Loss = 0.0023182381384005005 | Training Accuracy = 0.10423809523809524\n",
      "Epoch 150/500: Loss = 0.0023174216376722215 | Training Accuracy = 0.10423809523809524\n",
      "Epoch 200/500: Loss = 0.002316655457669191 | Training Accuracy = 0.10426190476190476\n",
      "Epoch 250/500: Loss = 0.002315936080228546 | Training Accuracy = 0.10435714285714286\n",
      "Epoch 300/500: Loss = 0.002315260262976659 | Training Accuracy = 0.10442857142857143\n",
      "Epoch 350/500: Loss = 0.0023146250150301384 | Training Accuracy = 0.10435714285714286\n",
      "Epoch 400/500: Loss = 0.0023140275751201045 | Training Accuracy = 0.1045\n",
      "Epoch 450/500: Loss = 0.0023134653918658508 | Training Accuracy = 0.1045\n"
     ]
    },
    {
     "data": {
      "text/plain": [
       "0.09977777777777778"
      ]
     },
     "execution_count": 28,
     "metadata": {
      "tags": []
     },
     "output_type": "execute_result"
    }
   ],
   "source": [
    "lr = 1e-7\n",
    "Lambda = 1e-7\n",
    "train_and_test_loop(500, lr, Lambda)"
   ]
  },
  {
   "cell_type": "markdown",
   "metadata": {
    "colab_type": "text",
    "id": "CB16VRAdLiCd"
   },
   "source": [
    "### Okay now lets try a (larger) learning rate 1e6. What could possibly go wrong?\n",
    "\n",
    "- Learning rate lr = 1e6\n",
    "- Regularization lambda = 1e-7\n"
   ]
  },
  {
   "cell_type": "code",
   "execution_count": 29,
   "metadata": {
    "colab": {
     "base_uri": "https://localhost:8080/",
     "height": 204
    },
    "colab_type": "code",
    "id": "XbEXx92uLkOl",
    "outputId": "86dd9ad6-7159-4f9c-d69f-c2015a5f4a4e"
   },
   "outputs": [
    {
     "name": "stdout",
     "output_type": "stream",
     "text": [
      "Epoch 0/500: Loss = inf | Training Accuracy = 0.09971428571428571\n",
      "Epoch 50/500: Loss = inf | Training Accuracy = 0.116\n",
      "Epoch 100/500: Loss = inf | Training Accuracy = 0.11333333333333333\n",
      "Epoch 150/500: Loss = inf | Training Accuracy = 0.11335714285714285\n",
      "Epoch 200/500: Loss = inf | Training Accuracy = 0.11442857142857144\n",
      "Epoch 250/500: Loss = inf | Training Accuracy = 0.12202380952380952\n",
      "Epoch 300/500: Loss = inf | Training Accuracy = 0.10323809523809524\n",
      "Epoch 350/500: Loss = inf | Training Accuracy = 0.12333333333333334\n",
      "Epoch 400/500: Loss = inf | Training Accuracy = 0.12714285714285714\n",
      "Epoch 450/500: Loss = inf | Training Accuracy = 0.11719047619047619\n"
     ]
    },
    {
     "data": {
      "text/plain": [
       "0.10566666666666667"
      ]
     },
     "execution_count": 29,
     "metadata": {
      "tags": []
     },
     "output_type": "execute_result"
    }
   ],
   "source": [
    "lr = 1e6\n",
    "Lambda = 1e-7\n",
    "train_and_test_loop(500, lr, Lambda)"
   ]
  },
  {
   "cell_type": "markdown",
   "metadata": {
    "colab_type": "text",
    "id": "ec6MDOXoLlaD"
   },
   "source": [
    "### Lets try to train now with a value of learning rate between 1e-7 and 1e6\n",
    "\n",
    "- learning rate = 1e4\n",
    "- regularization remains the small, lambda = 1e-7"
   ]
  },
  {
   "cell_type": "code",
   "execution_count": 0,
   "metadata": {
    "colab": {
     "base_uri": "https://localhost:8080/",
     "height": 68
    },
    "colab_type": "code",
    "id": "tYpe7gwBLnPu",
    "outputId": "b9b43053-d1ab-4e32-d749-c0703d5db2c1"
   },
   "outputs": [
    {
     "name": "stdout",
     "output_type": "stream",
     "text": [
      "Epoch 0/500: Loss = inf | Training Accuracy = 0.09971428571428571\n",
      "Epoch 50/500: Loss = inf | Training Accuracy = 0.11171428571428571\n",
      "Epoch 100/500: Loss = inf | Training Accuracy = 0.09976190476190476\n"
     ]
    }
   ],
   "source": [
    "lr = 1e4\n",
    "Lambda = 1e-7\n",
    "train_and_test_loop(500, lr, Lambda)"
   ]
  },
  {
   "cell_type": "markdown",
   "metadata": {
    "colab_type": "text",
    "id": "_lnvRVgBLqjS"
   },
   "source": [
    "### Hyperparameter Optimization\n",
    "\n",
    "### Cross validation Strategy\n",
    "\n",
    "\n",
    "- Do coarse -> fine cross-validation in stages\n",
    "\n",
    "- First stage: only a few epochs to get rough idea of what params work\n",
    "- Second stage: longer running time, finer search\n",
    "- … (repeat as necessary)\n",
    "\n",
    "### Tip for detecting explosions in the solver: \n",
    "- If the cost is ever > 3 * original cost, break out early\n",
    "\n",
    "\n"
   ]
  },
  {
   "cell_type": "markdown",
   "metadata": {
    "colab_type": "text",
    "id": "9eGp4fxWLtyX"
   },
   "source": [
    "### For example: Run coarse search for 100 iterations\n"
   ]
  },
  {
   "cell_type": "code",
   "execution_count": 0,
   "metadata": {
    "colab": {
     "base_uri": "https://localhost:8080/",
     "height": 1921
    },
    "colab_type": "code",
    "id": "uWTz0DU_LrAR",
    "outputId": "1453a03c-0096-4832-e04f-e8a62ebfc64b"
   },
   "outputs": [
    {
     "name": "stdout",
     "output_type": "stream",
     "text": [
      "Try 1/100: Best_val_acc: 0.09972222222222223, lr: 1.3489071745332914e-07, Lambda: 1.4217723755797894e-05\n",
      "\n",
      "Try 2/100: Best_val_acc: 0.11444444444444445, lr: 1206.9438709660424, Lambda: 0.2051166201934944\n",
      "\n",
      "Try 3/100: Best_val_acc: 0.19833333333333333, lr: 0.002535181651963326, Lambda: 0.00010153483596451206\n",
      "\n",
      "Try 4/100: Best_val_acc: 0.10727777777777778, lr: 1.5422820030954793e-07, Lambda: 28.070398287770843\n",
      "\n",
      "Try 5/100: Best_val_acc: 0.09777777777777778, lr: 1.5007162427104922e-06, Lambda: 0.002883823980340039\n",
      "\n",
      "Try 6/100: Best_val_acc: 0.10511111111111111, lr: 13.746525999681806, Lambda: 5.840504648797076\n",
      "\n",
      "Try 7/100: Best_val_acc: 0.10044444444444445, lr: 3.5921908813020663e-07, Lambda: 0.6192088210981265\n",
      "\n",
      "Try 8/100: Best_val_acc: 0.09533333333333334, lr: 589.4603605678844, Lambda: 0.007392762149485296\n",
      "\n",
      "Try 9/100: Best_val_acc: 0.1822777777777778, lr: 0.0015880142105923838, Lambda: 42.242280654106715\n",
      "\n",
      "Try 10/100: Best_val_acc: 0.09861111111111111, lr: 3.806412083767399e-07, Lambda: 0.004697426779181731\n",
      "\n",
      "Try 11/100: Best_val_acc: 0.09861111111111111, lr: 1.1877863927223149e-07, Lambda: 0.005585800079279331\n",
      "\n",
      "Try 12/100: Best_val_acc: 0.10177777777777777, lr: 1.3280205644939187, Lambda: 0.03947706776707995\n",
      "\n",
      "Try 13/100: Best_val_acc: 0.12727777777777777, lr: 605.8130617972048, Lambda: 0.006821389921506487\n",
      "\n",
      "Try 14/100: Best_val_acc: 0.1975, lr: 0.011559272082045212, Lambda: 1.6441203794307924\n",
      "\n",
      "Try 15/100: Best_val_acc: 0.11555555555555555, lr: 71.16538831692735, Lambda: 889.2193452425387\n",
      "\n",
      "Try 16/100: Best_val_acc: 0.092, lr: 7.083765642324073e-07, Lambda: 19.080130715583792\n",
      "\n",
      "Try 17/100: Best_val_acc: 0.10155555555555555, lr: 1.4860998261099477e-07, Lambda: 2.9886978713709155e-05\n",
      "\n",
      "Try 18/100: Best_val_acc: 0.10077777777777777, lr: 22.391151938577476, Lambda: 0.00016886525572273208\n",
      "\n",
      "Try 19/100: Best_val_acc: 0.10361111111111111, lr: 1.317423278328267e-07, Lambda: 47942.023963699234\n",
      "\n",
      "Try 20/100: Best_val_acc: 0.09716666666666667, lr: 0.4024196540075086, Lambda: 22.738912501928855\n",
      "\n",
      "Try 21/100: Best_val_acc: 0.10527777777777778, lr: 1.7923918706594538e-05, Lambda: 0.021810197369721073\n",
      "\n",
      "Try 22/100: Best_val_acc: 0.11844444444444445, lr: 133.06291777196336, Lambda: 16425.8712378732\n",
      "\n",
      "Try 23/100: Best_val_acc: 0.10561111111111111, lr: 2.2197836297479476, Lambda: 0.029587746149811488\n",
      "\n",
      "Try 24/100: Best_val_acc: 0.18794444444444444, lr: 0.025471775608721464, Lambda: 3.8446172224793433\n",
      "\n",
      "Try 25/100: Best_val_acc: 0.19633333333333333, lr: 0.0026037562139819494, Lambda: 0.000582434837879102\n",
      "\n",
      "Try 26/100: Best_val_acc: 0.11522222222222223, lr: 0.318035047275871, Lambda: 21.86229140096069\n",
      "\n",
      "Try 27/100: Best_val_acc: 0.19055555555555556, lr: 0.002299356087287492, Lambda: 0.021158047898812756\n",
      "\n",
      "Try 28/100: Best_val_acc: 0.12422222222222222, lr: 5.118728909985562, Lambda: 3.374373938708428e-05\n",
      "\n",
      "Try 29/100: Best_val_acc: 0.15433333333333332, lr: 790.3684620371738, Lambda: 3.261411569103308\n",
      "\n",
      "Try 30/100: Best_val_acc: 0.103, lr: 2.9979682949704837e-06, Lambda: 1799.16937063392\n",
      "\n",
      "Try 31/100: Best_val_acc: 0.11438888888888889, lr: 44.85307735383675, Lambda: 69342.9930647573\n",
      "\n",
      "Try 32/100: Best_val_acc: 0.19088888888888889, lr: 0.028893261763550587, Lambda: 13495.492563934931\n",
      "\n",
      "Try 33/100: Best_val_acc: 0.12227777777777778, lr: 6.787108905615202e-05, Lambda: 0.000669723080747376\n",
      "\n",
      "Try 34/100: Best_val_acc: 0.10305555555555555, lr: 6.514812878178059e-06, Lambda: 22888.834536411374\n",
      "\n",
      "Try 35/100: Best_val_acc: 0.10061111111111111, lr: 254.90846605027735, Lambda: 5360.553408765889\n",
      "\n",
      "Try 36/100: Best_val_acc: 0.10811111111111112, lr: 17.698578924175962, Lambda: 7.861093792625654e-05\n",
      "\n",
      "Try 37/100: Best_val_acc: 0.15588888888888888, lr: 0.00020240535646826393, Lambda: 0.012446298242762091\n",
      "\n",
      "Try 38/100: Best_val_acc: 0.09877777777777778, lr: 2.8925023321378972e-05, Lambda: 2.7761419796703337\n",
      "\n",
      "Try 39/100: Best_val_acc: 0.21255555555555555, lr: 0.012094917286809006, Lambda: 2.7774438844889304\n",
      "\n",
      "Try 40/100: Best_val_acc: 0.08261111111111111, lr: 2.942468213063271e-06, Lambda: 0.004682716473884088\n",
      "\n",
      "Try 41/100: Best_val_acc: 0.10177777777777777, lr: 4.1073448840626734e-07, Lambda: 0.021898696036617996\n",
      "\n",
      "Try 42/100: Best_val_acc: 0.10172222222222223, lr: 850.9434193841561, Lambda: 0.004424818767731065\n",
      "\n",
      "Try 43/100: Best_val_acc: 0.09277777777777778, lr: 1.1200386624779757e-06, Lambda: 89.72573901191566\n",
      "\n",
      "Try 44/100: Best_val_acc: 0.18838888888888888, lr: 0.0017997418150506837, Lambda: 98.62847948373336\n",
      "\n",
      "Try 45/100: Best_val_acc: 0.19227777777777777, lr: 0.005597986455460089, Lambda: 2.8776059820216997e-05\n",
      "\n",
      "Try 46/100: Best_val_acc: 0.1751111111111111, lr: 0.0005900321519327623, Lambda: 8.782158355265104e-05\n",
      "\n",
      "Try 47/100: Best_val_acc: 0.10577777777777778, lr: 1.4941576202906166, Lambda: 9.218960517846567e-05\n",
      "\n",
      "Try 48/100: Best_val_acc: 0.12661111111111112, lr: 8.46700375711551, Lambda: 407.25838806556254\n",
      "\n",
      "Try 49/100: Best_val_acc: 0.10955555555555556, lr: 1090.4193838284737, Lambda: 533.8828810193874\n",
      "\n",
      "Try 50/100: Best_val_acc: 0.09994444444444445, lr: 3.4074662033401095e-06, Lambda: 3.997543845340793e-05\n",
      "\n",
      "Try 51/100: Best_val_acc: 0.10055555555555555, lr: 771.9153899893001, Lambda: 475.50349381171924\n",
      "\n",
      "Try 52/100: Best_val_acc: 0.19216666666666668, lr: 0.001962006679328266, Lambda: 3.575999867004046\n",
      "\n",
      "Try 53/100: Best_val_acc: 0.11683333333333333, lr: 368.42753133913044, Lambda: 729.943420651967\n",
      "\n",
      "Try 54/100: Best_val_acc: 0.1391111111111111, lr: 0.4317304939998958, Lambda: 0.06636819212790032\n",
      "\n",
      "Try 55/100: Best_val_acc: 0.17872222222222223, lr: 0.0004109982927380435, Lambda: 0.18453947014390593\n",
      "\n",
      "Try 56/100: Best_val_acc: 0.09383333333333334, lr: 1.9323785301165717e-05, Lambda: 55.49778648827816\n",
      "\n"
     ]
    }
   ],
   "source": [
    "import math\n",
    "import numpy as np\n",
    "for k in range(1,100):\n",
    "    lr = math.pow(10, np.random.uniform(-7.0, 4.0))\n",
    "    Lambda = math.pow(10, np.random.uniform(-5,5))\n",
    "    best_acc = train_and_test_loop(100, lr, Lambda, False)\n",
    "    print(\"Try {0}/{1}: Best_val_acc: {2}, lr: {3}, Lambda: {4}\\n\".format(k, 100, best_acc, lr, Lambda))"
   ]
  },
  {
   "cell_type": "markdown",
   "metadata": {
    "colab_type": "text",
    "id": "9EPnPlsiLxm9"
   },
   "source": [
    "### Now run finer search\n"
   ]
  },
  {
   "cell_type": "code",
   "execution_count": 32,
   "metadata": {
    "colab": {
     "base_uri": "https://localhost:8080/",
     "height": 323
    },
    "colab_type": "code",
    "id": "aeRhWdOdLx8N",
    "outputId": "518cd4f5-b18f-43e7-c4f6-151fad4d3d52"
   },
   "outputs": [
    {
     "name": "stdout",
     "output_type": "stream",
     "text": [
      "Try 1/100: Best_val_acc: 0.18183333333333335, lr: 0.0015627841187523487, Lambda: 3.0963828622801124\n",
      "\n",
      "Try 2/100: Best_val_acc: 0.2066111111111111, lr: 0.008938232491123084, Lambda: 0.000702890261927268\n",
      "\n",
      "Try 3/100: Best_val_acc: 0.16827777777777778, lr: 0.0011501119317044288, Lambda: 0.01734494266611332\n",
      "\n",
      "Try 4/100: Best_val_acc: 0.20305555555555554, lr: 0.00819099708307534, Lambda: 0.0021746911073095175\n",
      "\n",
      "Try 5/100: Best_val_acc: 0.19633333333333333, lr: 0.002049761698052168, Lambda: 0.0026322703638284256\n",
      "\n",
      "Try 6/100: Best_val_acc: 0.19177777777777777, lr: 0.0019861553779131347, Lambda: 0.0012140965999602696\n",
      "\n",
      "Try 7/100: Best_val_acc: 0.19833333333333333, lr: 0.008306278867108984, Lambda: 0.0004152450841152552\n",
      "\n",
      "Try 8/100: Best_val_acc: 0.1988888888888889, lr: 0.0065261317442428645, Lambda: 0.0015696653929476913\n",
      "\n",
      "Try 9/100: Best_val_acc: 0.19922222222222222, lr: 0.0031200446051965454, Lambda: 0.005578884076955325\n",
      "\n"
     ]
    }
   ],
   "source": [
    "import math\n",
    "import numpy as np\n",
    "for k in range(1,10):\n",
    "    lr = math.pow(10, np.random.uniform(-3.0, -2.0))\n",
    "    Lambda = math.pow(10, np.random.uniform(-5,2))\n",
    "    best_acc = train_and_test_loop(100, lr, Lambda, False)\n",
    "    print(\"Try {0}/{1}: Best_val_acc: {2}, lr: {3}, Lambda: {4}\\n\".format(k, 100, best_acc, lr, Lambda))"
   ]
  }
 ],
 "metadata": {
  "accelerator": "GPU",
  "colab": {
   "name": "Babysitting-SVHN Python Neural Network_milestone3_notebook.ipynb",
   "provenance": [],
   "version": "0.3.2"
  },
  "kernelspec": {
   "display_name": "Python 3",
   "language": "python",
   "name": "python3"
  },
  "language_info": {
   "codemirror_mode": {
    "name": "ipython",
    "version": 3
   },
   "file_extension": ".py",
   "mimetype": "text/x-python",
   "name": "python",
   "nbconvert_exporter": "python",
   "pygments_lexer": "ipython3",
   "version": "3.6.5"
  }
 },
 "nbformat": 4,
 "nbformat_minor": 1
}
